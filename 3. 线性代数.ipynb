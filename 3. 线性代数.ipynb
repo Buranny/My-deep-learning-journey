{
 "cells": [
  {
   "cell_type": "markdown",
   "id": "d3ae1565",
   "metadata": {},
   "source": [
    "# 3 线性代数\n",
    "\n",
    "## 3.1 标量、向量、矩阵、张量\n"
   ]
  },
  {
   "cell_type": "code",
   "execution_count": 2,
   "id": "c4ad9169",
   "metadata": {},
   "outputs": [
    {
     "data": {
      "text/plain": [
       "(tensor([5]), tensor([6]), tensor([1.5000]), tensor([9]))"
      ]
     },
     "execution_count": 2,
     "metadata": {},
     "output_type": "execute_result"
    }
   ],
   "source": [
    "#标量\n",
    "import torch\n",
    "x = torch.tensor([3])\n",
    "y = torch.tensor([2])\n",
    "x + y, x * y, x / y, x ** y"
   ]
  },
  {
   "cell_type": "code",
   "execution_count": 6,
   "id": "000bc1d7",
   "metadata": {},
   "outputs": [
    {
     "data": {
      "text/plain": [
       "(tensor([0, 1, 2, 3]), tensor(3), 4, torch.Size([4]))"
      ]
     },
     "execution_count": 6,
     "metadata": {},
     "output_type": "execute_result"
    }
   ],
   "source": [
    "#向量\n",
    "x = torch.arange(4)\n",
    "x, x[3], len(x), x.shape"
   ]
  },
  {
   "cell_type": "code",
   "execution_count": 12,
   "id": "a4de603d",
   "metadata": {},
   "outputs": [
    {
     "name": "stdout",
     "output_type": "stream",
     "text": [
      "tensor([[ 0,  1,  2,  3],\n",
      "        [ 4,  5,  6,  7],\n",
      "        [ 8,  9, 10, 11],\n",
      "        [12, 13, 14, 15],\n",
      "        [16, 17, 18, 19]])\n",
      "tensor([[ 0,  4,  8, 12, 16],\n",
      "        [ 1,  5,  9, 13, 17],\n",
      "        [ 2,  6, 10, 14, 18],\n",
      "        [ 3,  7, 11, 15, 19]])\n"
     ]
    }
   ],
   "source": [
    "#矩阵\n",
    "A = torch.arange(20).view(5, 4)\n",
    "print(A)\n",
    "print(A.T)  #转置"
   ]
  },
  {
   "cell_type": "code",
   "execution_count": 11,
   "id": "5e277c20",
   "metadata": {},
   "outputs": [
    {
     "name": "stdout",
     "output_type": "stream",
     "text": [
      "tensor([[1, 2, 3],\n",
      "        [2, 0, 4],\n",
      "        [3, 4, 5]])\n",
      "tensor([[True, True, True],\n",
      "        [True, True, True],\n",
      "        [True, True, True]])\n"
     ]
    }
   ],
   "source": [
    "#对称矩阵：B=B.T，沿对角线对称\n",
    "B = torch.tensor([[1,2,3], [2,0,4], [3,4,5]])\n",
    "print(B)\n",
    "print(B == B.T)"
   ]
  },
  {
   "cell_type": "code",
   "execution_count": 16,
   "id": "5a5957fb",
   "metadata": {},
   "outputs": [
    {
     "data": {
      "text/plain": [
       "(tensor([[[ 0,  1,  2,  3],\n",
       "          [ 4,  5,  6,  7],\n",
       "          [ 8,  9, 10, 11]],\n",
       " \n",
       "         [[12, 13, 14, 15],\n",
       "          [16, 17, 18, 19],\n",
       "          [20, 21, 22, 23]]]),\n",
       " tensor([[[ 2,  3,  4,  5],\n",
       "          [ 6,  7,  8,  9],\n",
       "          [10, 11, 12, 13]],\n",
       " \n",
       "         [[14, 15, 16, 17],\n",
       "          [18, 19, 20, 21],\n",
       "          [22, 23, 24, 25]]]))"
      ]
     },
     "execution_count": 16,
     "metadata": {},
     "output_type": "execute_result"
    }
   ],
   "source": [
    "#张量\n",
    "x = torch.arange(24).reshape(2, 3, 4)\n",
    "x, x + 2"
   ]
  },
  {
   "cell_type": "code",
   "execution_count": 27,
   "id": "8fd57198",
   "metadata": {},
   "outputs": [
    {
     "data": {
      "text/plain": [
       "(tensor([[ 0.,  1.,  2.,  3.],\n",
       "         [ 4.,  5.,  6.,  7.],\n",
       "         [ 8.,  9., 10., 11.],\n",
       "         [12., 13., 14., 15.],\n",
       "         [16., 17., 18., 19.]]),\n",
       " tensor([[ 0.,  2.,  4.,  6.],\n",
       "         [ 8., 10., 12., 14.],\n",
       "         [16., 18., 20., 22.],\n",
       "         [24., 26., 28., 30.],\n",
       "         [32., 34., 36., 38.]]))"
      ]
     },
     "execution_count": 27,
     "metadata": {},
     "output_type": "execute_result"
    }
   ],
   "source": [
    "#给定具有相同形状的任意两个张量，任何按元素二元运算的结果都将是相同形状的张量\n",
    "A = torch.arange(20, dtype=torch.float32).reshape(5, 4)\n",
    "B = A.clone()  # 通过分配新内存，将A的一个副本分配给B\n",
    "A, A + B"
   ]
  },
  {
   "cell_type": "code",
   "execution_count": 15,
   "id": "0d2b9a7a",
   "metadata": {},
   "outputs": [
    {
     "data": {
      "text/plain": [
       "tensor([[  0.,   1.,   4.,   9.],\n",
       "        [ 16.,  25.,  36.,  49.],\n",
       "        [ 64.,  81., 100., 121.],\n",
       "        [144., 169., 196., 225.],\n",
       "        [256., 289., 324., 361.]])"
      ]
     },
     "execution_count": 15,
     "metadata": {},
     "output_type": "execute_result"
    }
   ],
   "source": [
    "#两个矩阵的按元素乘法称为哈达玛积（Hadamard product）（数学符号 ⊙ ）\n",
    "A * B"
   ]
  },
  {
   "cell_type": "markdown",
   "id": "4cfdf2cc",
   "metadata": {},
   "source": [
    "## 3.2 降维\n",
    "默认情况下，调用求和函数会沿所有的轴降低张量的维度，使它变为一个标量。 我们还可以指定张量沿哪一个轴来通过求和降低维度。\n",
    "以矩阵为例，为了通过求和所有行的元素来降维（轴0），我们可以在调用函数时指定axis=0。"
   ]
  },
  {
   "cell_type": "code",
   "execution_count": 28,
   "id": "04f1789a",
   "metadata": {},
   "outputs": [
    {
     "data": {
      "text/plain": [
       "(tensor([40., 45., 50., 55.]), torch.Size([4]))"
      ]
     },
     "execution_count": 28,
     "metadata": {},
     "output_type": "execute_result"
    }
   ],
   "source": [
    "#由于输入矩阵沿0轴降维以生成输出向量，因此输入的轴0的维数在输出形状中丢失。\n",
    "A0 = A.sum(axis=0)  #一行\n",
    "A0, A0.shape"
   ]
  },
  {
   "cell_type": "code",
   "execution_count": 20,
   "id": "fc9eab07",
   "metadata": {},
   "outputs": [
    {
     "data": {
      "text/plain": [
       "(tensor([ 6., 22., 38., 54., 70.]), torch.Size([5]))"
      ]
     },
     "execution_count": 20,
     "metadata": {},
     "output_type": "execute_result"
    }
   ],
   "source": [
    "#指定axis=1将通过汇总所有列的元素降维（轴1）。因此，输入的轴1的维数在输出形状中消失。\n",
    "A1 = A.sum(axis=1)  #一列\n",
    "A1, A1.shape"
   ]
  },
  {
   "cell_type": "code",
   "execution_count": 23,
   "id": "4582a943",
   "metadata": {},
   "outputs": [
    {
     "name": "stdout",
     "output_type": "stream",
     "text": [
      "tensor(190.) torch.Size([])\n",
      "tensor(190.) torch.Size([5, 4])\n"
     ]
    }
   ],
   "source": [
    "#沿着行和列对矩阵求和，等价于对矩阵的所有元素进行求和\n",
    "A2 = A.sum(axis=[0, 1])\n",
    "print(A2, A2.shape)  #这是降维了\n",
    "\n",
    "print(A.sum(), A.shape)  #此时维度不变"
   ]
  },
  {
   "cell_type": "code",
   "execution_count": 26,
   "id": "c2a67fac",
   "metadata": {},
   "outputs": [
    {
     "data": {
      "text/plain": [
       "(tensor(9.5000), tensor(9.5000))"
      ]
     },
     "execution_count": 26,
     "metadata": {},
     "output_type": "execute_result"
    }
   ],
   "source": [
    "#计算均值\n",
    "A.mean(),  A.sum() / A.numel()"
   ]
  },
  {
   "cell_type": "code",
   "execution_count": 29,
   "id": "eb0a3fc9",
   "metadata": {},
   "outputs": [
    {
     "data": {
      "text/plain": [
       "(tensor([ 8.,  9., 10., 11.]), tensor([ 8.,  9., 10., 11.]))"
      ]
     },
     "execution_count": 29,
     "metadata": {},
     "output_type": "execute_result"
    }
   ],
   "source": [
    "#同样，计算平均值的函数也可以沿指定轴降低张量的维度\n",
    "A.mean(axis=0), A.sum(axis=0) / A.shape[0]"
   ]
  },
  {
   "cell_type": "markdown",
   "id": "f54c4e15",
   "metadata": {},
   "source": [
    "### 3.2.1 非降维求和\n",
    "现在我们希望求和的时候，保持维度不变："
   ]
  },
  {
   "cell_type": "code",
   "execution_count": 30,
   "id": "7227b380",
   "metadata": {},
   "outputs": [
    {
     "data": {
      "text/plain": [
       "tensor([[ 6.],\n",
       "        [22.],\n",
       "        [38.],\n",
       "        [54.],\n",
       "        [70.]])"
      ]
     },
     "execution_count": 30,
     "metadata": {},
     "output_type": "execute_result"
    }
   ],
   "source": [
    "A_unchange = A.sum(axis=1, keepdims=True)\n",
    "A_unchange"
   ]
  },
  {
   "cell_type": "markdown",
   "id": "fc23da50",
   "metadata": {},
   "source": [
    "这样做的好处是，可以通过广播机制让A除以A_unchange："
   ]
  },
  {
   "cell_type": "code",
   "execution_count": 31,
   "id": "f9fd203d",
   "metadata": {},
   "outputs": [
    {
     "data": {
      "text/plain": [
       "tensor([[0.0000, 0.1667, 0.3333, 0.5000],\n",
       "        [0.1818, 0.2273, 0.2727, 0.3182],\n",
       "        [0.2105, 0.2368, 0.2632, 0.2895],\n",
       "        [0.2222, 0.2407, 0.2593, 0.2778],\n",
       "        [0.2286, 0.2429, 0.2571, 0.2714]])"
      ]
     },
     "execution_count": 31,
     "metadata": {},
     "output_type": "execute_result"
    }
   ],
   "source": [
    "A / A_unchange"
   ]
  },
  {
   "cell_type": "code",
   "execution_count": 32,
   "id": "6f189b7d",
   "metadata": {},
   "outputs": [
    {
     "data": {
      "text/plain": [
       "(tensor([[ 0.,  1.,  2.,  3.],\n",
       "         [ 4.,  5.,  6.,  7.],\n",
       "         [ 8.,  9., 10., 11.],\n",
       "         [12., 13., 14., 15.],\n",
       "         [16., 17., 18., 19.]]),\n",
       " tensor([[ 0.,  1.,  2.,  3.],\n",
       "         [ 4.,  6.,  8., 10.],\n",
       "         [12., 15., 18., 21.],\n",
       "         [24., 28., 32., 36.],\n",
       "         [40., 45., 50., 55.]]))"
      ]
     },
     "execution_count": 32,
     "metadata": {},
     "output_type": "execute_result"
    }
   ],
   "source": [
    "#调用cumsum函数表示累加求和\n",
    "A, A.cumsum(axis=0)"
   ]
  },
  {
   "cell_type": "markdown",
   "id": "ce9b7e44",
   "metadata": {},
   "source": [
    "## 3.3 点积、向量积、矩阵乘"
   ]
  },
  {
   "cell_type": "code",
   "execution_count": 34,
   "id": "199f9376",
   "metadata": {},
   "outputs": [
    {
     "data": {
      "text/plain": [
       "(tensor([0., 1., 2., 3.]), tensor([1., 1., 1., 1.]), tensor(6.), tensor(6.))"
      ]
     },
     "execution_count": 34,
     "metadata": {},
     "output_type": "execute_result"
    }
   ],
   "source": [
    "#点积dot(x, y)\n",
    "x = torch.arange(4, dtype=torch.float32)\n",
    "y = torch.ones(4, dtype = torch.float32)\n",
    "x, y, torch.dot(x, y), torch.sum(x * y)  #后两者意义相同"
   ]
  },
  {
   "cell_type": "code",
   "execution_count": 37,
   "id": "27b5c614",
   "metadata": {},
   "outputs": [
    {
     "data": {
      "text/plain": [
       "(torch.Size([3, 2]), torch.Size([2]), tensor([ 9, 43, 77]))"
      ]
     },
     "execution_count": 37,
     "metadata": {},
     "output_type": "execute_result"
    }
   ],
   "source": [
    "#向量积mv(x, y)\n",
    "x = torch.arange(6).view([3, 2])\n",
    "y = torch.tensor([8, 9])\n",
    "x.shape, y.shape, torch.mv(x, y)"
   ]
  },
  {
   "cell_type": "code",
   "execution_count": 40,
   "id": "9e41552c",
   "metadata": {},
   "outputs": [
    {
     "data": {
      "text/plain": [
       "(tensor([[0, 1],\n",
       "         [2, 3],\n",
       "         [4, 5]]),\n",
       " tensor([[7, 2, 5, 4],\n",
       "         [3, 6, 0, 1]]),\n",
       " tensor([[ 3,  6,  0,  1],\n",
       "         [23, 22, 10, 11],\n",
       "         [43, 38, 20, 21]]))"
      ]
     },
     "execution_count": 40,
     "metadata": {},
     "output_type": "execute_result"
    }
   ],
   "source": [
    "#矩阵乘mm(x, y)\n",
    "x = torch.arange(6).view([3, 2])\n",
    "y = torch.randperm(8).view([2, 4])\n",
    "x, y, torch.mm(x, y)"
   ]
  },
  {
   "cell_type": "markdown",
   "id": "c3f971f5",
   "metadata": {},
   "source": [
    "## 3.4 范数"
   ]
  },
  {
   "cell_type": "code",
   "execution_count": 41,
   "id": "60a731df",
   "metadata": {},
   "outputs": [
    {
     "data": {
      "text/plain": [
       "tensor(5.)"
      ]
     },
     "execution_count": 41,
     "metadata": {},
     "output_type": "execute_result"
    }
   ],
   "source": [
    "#L2范数是向量元素平方和的平方根norm(u)\n",
    "u = torch.tensor([3.0, -4.0])\n",
    "torch.norm(u)"
   ]
  },
  {
   "cell_type": "code",
   "execution_count": 42,
   "id": "735423d6",
   "metadata": {},
   "outputs": [
    {
     "data": {
      "text/plain": [
       "tensor(11)"
      ]
     },
     "execution_count": 42,
     "metadata": {},
     "output_type": "execute_result"
    }
   ],
   "source": [
    "#L1范数为向量元素的绝对值之和\n",
    "u = torch.tensor([-1, 3, 5, -2])\n",
    "torch.abs(u).sum()"
   ]
  },
  {
   "attachments": {
    "H3Y%293%5B2GL9S@%25%5D86W%5DV@08N.png": {
     "image/png": "[encoded data removed]"
    }
   },
   "cell_type": "markdown",
   "id": "f0b6fa42",
   "metadata": {},
   "source": [
    "![H3Y%293%5B2GL9S@%25%5D86W%5DV@08N.png](attachment:H3Y%293%5B2GL9S@%25%5D86W%5DV@08N.png)"
   ]
  },
  {
   "cell_type": "code",
   "execution_count": 44,
   "id": "1d067b3e",
   "metadata": {},
   "outputs": [
    {
     "data": {
      "text/plain": [
       "(tensor([[1., 1., 1., 1., 1., 1., 1., 1., 1.],\n",
       "         [1., 1., 1., 1., 1., 1., 1., 1., 1.],\n",
       "         [1., 1., 1., 1., 1., 1., 1., 1., 1.],\n",
       "         [1., 1., 1., 1., 1., 1., 1., 1., 1.]]),\n",
       " tensor(6.))"
      ]
     },
     "execution_count": 44,
     "metadata": {},
     "output_type": "execute_result"
    }
   ],
   "source": [
    "torch.ones((4, 9)), torch.norm(torch.ones((4, 9)))"
   ]
  }
 ],
 "metadata": {
  "kernelspec": {
   "display_name": "Python [conda env:root] *",
   "language": "python",
   "name": "conda-root-py"
  },
  "language_info": {
   "codemirror_mode": {
    "name": "ipython",
    "version": 3
   },
   "file_extension": ".py",
   "mimetype": "text/x-python",
   "name": "python",
   "nbconvert_exporter": "python",
   "pygments_lexer": "ipython3",
   "version": "3.8.8"
  }
 },
 "nbformat": 4,
 "nbformat_minor": 5
}
