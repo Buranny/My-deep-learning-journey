{
 "cells": [
  {
   "cell_type": "markdown",
   "id": "100b599f",
   "metadata": {},
   "source": [
    "# 2 数据预处理\n",
    "## 2.1 生成数据\n",
    "创建一个人工数据集，并存储在C:/Users/xinyu/Desktop/myjupyter/data/class.csv中："
   ]
  },
  {
   "cell_type": "code",
   "execution_count": 28,
   "id": "a8af3013",
   "metadata": {},
   "outputs": [
    {
     "name": "stdout",
     "output_type": "stream",
     "text": [
      "   group       name   score  whether_pass\n",
      "0    1.0   ZhangSan    78.0           yes\n",
      "1    3.0       LiSi    55.0            no\n",
      "2    NaN     WangWu    66.0           yes\n",
      "3    5.0    ZhaoLiu     NaN           NaN\n"
     ]
    },
    {
     "data": {
      "text/html": [
       "<div>\n",
       "<style scoped>\n",
       "    .dataframe tbody tr th:only-of-type {\n",
       "        vertical-align: middle;\n",
       "    }\n",
       "\n",
       "    .dataframe tbody tr th {\n",
       "        vertical-align: top;\n",
       "    }\n",
       "\n",
       "    .dataframe thead th {\n",
       "        text-align: right;\n",
       "    }\n",
       "</style>\n",
       "<table border=\"1\" class=\"dataframe\">\n",
       "  <thead>\n",
       "    <tr style=\"text-align: right;\">\n",
       "      <th></th>\n",
       "      <th>group</th>\n",
       "      <th>name</th>\n",
       "      <th>score</th>\n",
       "      <th>whether_pass</th>\n",
       "    </tr>\n",
       "  </thead>\n",
       "  <tbody>\n",
       "    <tr>\n",
       "      <th>0</th>\n",
       "      <td>1.0</td>\n",
       "      <td>ZhangSan</td>\n",
       "      <td>78.0</td>\n",
       "      <td>yes</td>\n",
       "    </tr>\n",
       "    <tr>\n",
       "      <th>1</th>\n",
       "      <td>3.0</td>\n",
       "      <td>LiSi</td>\n",
       "      <td>55.0</td>\n",
       "      <td>no</td>\n",
       "    </tr>\n",
       "    <tr>\n",
       "      <th>2</th>\n",
       "      <td>NaN</td>\n",
       "      <td>WangWu</td>\n",
       "      <td>66.0</td>\n",
       "      <td>yes</td>\n",
       "    </tr>\n",
       "    <tr>\n",
       "      <th>3</th>\n",
       "      <td>5.0</td>\n",
       "      <td>ZhaoLiu</td>\n",
       "      <td>NaN</td>\n",
       "      <td>NaN</td>\n",
       "    </tr>\n",
       "  </tbody>\n",
       "</table>\n",
       "</div>"
      ],
      "text/plain": [
       "   group       name   score  whether_pass\n",
       "0    1.0   ZhangSan    78.0           yes\n",
       "1    3.0       LiSi    55.0            no\n",
       "2    NaN     WangWu    66.0           yes\n",
       "3    5.0    ZhaoLiu     NaN           NaN"
      ]
     },
     "execution_count": 28,
     "metadata": {},
     "output_type": "execute_result"
    }
   ],
   "source": [
    "import os\n",
    "\n",
    "os.makedirs(os.path.join('C:/Users/xinyu/Desktop/myjupyter', 'data'), exist_ok=True)#exist_ok=True确保存在路径C:/Users/xinyu/Desktop/myjupyter\n",
    "data_file = os.path.join('C:/Users/xinyu/Desktop/myjupyter', 'data', 'class.csv')  #csv文件的意思是每一行是一个文件，每一个域用逗号隔开\n",
    "with open(data_file, 'w') as f:  #将数据按行写进文件\n",
    "    f.write('group, name, score, whether_pass\\n')  #列名\n",
    "    f.write('1, ZhangSan, 78, yes\\n')  # 每行表示一个数据样本\n",
    "    f.write('3, LiSi, 55, no\\n')\n",
    "    f.write('NA, WangWu,66, yes\\n')\n",
    "    f.write('5, ZhaoLiu,NA,NA\\n')  #写入NA的时候要注意字符不能空格，否则写入的就是NA这个字符而不是NANI类型的missing value\n",
    "    \n",
    "#从创建的xls文件中加载原始数据集：导入pandas包并调用read_csv函数（一般读取csv文件用padans库）\n",
    "import pandas as pd\n",
    "\n",
    "data = pd.read_csv(data_file)\n",
    "print(data)\n",
    "data  #也可以不print，就会更好看，用html形式展现出来"
   ]
  },
  {
   "cell_type": "markdown",
   "id": "587ef576",
   "metadata": {},
   "source": [
    "## 2.2 处理缺失值\n",
    "“NaN”项代表缺失值，处理缺失值典型的方法包括插值和删除。\n",
    "下面的column1_3为数值缺失的，column4为内容缺失的。\n",
    "首先对数值缺失的，取均值："
   ]
  },
  {
   "cell_type": "code",
   "execution_count": 32,
   "id": "a21230f7",
   "metadata": {},
   "outputs": [
    {
     "data": {
      "text/html": [
       "<div>\n",
       "<style scoped>\n",
       "    .dataframe tbody tr th:only-of-type {\n",
       "        vertical-align: middle;\n",
       "    }\n",
       "\n",
       "    .dataframe tbody tr th {\n",
       "        vertical-align: top;\n",
       "    }\n",
       "\n",
       "    .dataframe thead th {\n",
       "        text-align: right;\n",
       "    }\n",
       "</style>\n",
       "<table border=\"1\" class=\"dataframe\">\n",
       "  <thead>\n",
       "    <tr style=\"text-align: right;\">\n",
       "      <th></th>\n",
       "      <th>group</th>\n",
       "      <th>score</th>\n",
       "    </tr>\n",
       "  </thead>\n",
       "  <tbody>\n",
       "    <tr>\n",
       "      <th>0</th>\n",
       "      <td>1.0</td>\n",
       "      <td>78.000000</td>\n",
       "    </tr>\n",
       "    <tr>\n",
       "      <th>1</th>\n",
       "      <td>3.0</td>\n",
       "      <td>55.000000</td>\n",
       "    </tr>\n",
       "    <tr>\n",
       "      <th>2</th>\n",
       "      <td>3.0</td>\n",
       "      <td>66.000000</td>\n",
       "    </tr>\n",
       "    <tr>\n",
       "      <th>3</th>\n",
       "      <td>5.0</td>\n",
       "      <td>66.333333</td>\n",
       "    </tr>\n",
       "  </tbody>\n",
       "</table>\n",
       "</div>"
      ],
      "text/plain": [
       "   group      score\n",
       "0    1.0  78.000000\n",
       "1    3.0  55.000000\n",
       "2    3.0  66.000000\n",
       "3    5.0  66.333333"
      ]
     },
     "execution_count": 32,
     "metadata": {},
     "output_type": "execute_result"
    }
   ],
   "source": [
    "column1_3, column4 = data.iloc[:, ::2], data.iloc[:, -1]  #取出第一列、第三列，取出第四列。iloc就是index location\n",
    "column1_3 = column1_3.fillna(column1_3.mean())  #对第一列、第三列NaN的数据取平均值\n",
    "column1_3  #就是对数值域进行处理了"
   ]
  },
  {
   "cell_type": "markdown",
   "id": "98e12cbd",
   "metadata": {},
   "source": [
    "其次对内容缺失的，将“NaN”视为一个类别："
   ]
  },
  {
   "cell_type": "code",
   "execution_count": 33,
   "id": "78910697",
   "metadata": {},
   "outputs": [
    {
     "data": {
      "text/html": [
       "<div>\n",
       "<style scoped>\n",
       "    .dataframe tbody tr th:only-of-type {\n",
       "        vertical-align: middle;\n",
       "    }\n",
       "\n",
       "    .dataframe tbody tr th {\n",
       "        vertical-align: top;\n",
       "    }\n",
       "\n",
       "    .dataframe thead th {\n",
       "        text-align: right;\n",
       "    }\n",
       "</style>\n",
       "<table border=\"1\" class=\"dataframe\">\n",
       "  <thead>\n",
       "    <tr style=\"text-align: right;\">\n",
       "      <th></th>\n",
       "      <th>no</th>\n",
       "      <th>yes</th>\n",
       "      <th>NaN</th>\n",
       "    </tr>\n",
       "  </thead>\n",
       "  <tbody>\n",
       "    <tr>\n",
       "      <th>0</th>\n",
       "      <td>0</td>\n",
       "      <td>1</td>\n",
       "      <td>0</td>\n",
       "    </tr>\n",
       "    <tr>\n",
       "      <th>1</th>\n",
       "      <td>1</td>\n",
       "      <td>0</td>\n",
       "      <td>0</td>\n",
       "    </tr>\n",
       "    <tr>\n",
       "      <th>2</th>\n",
       "      <td>0</td>\n",
       "      <td>1</td>\n",
       "      <td>0</td>\n",
       "    </tr>\n",
       "    <tr>\n",
       "      <th>3</th>\n",
       "      <td>0</td>\n",
       "      <td>0</td>\n",
       "      <td>1</td>\n",
       "    </tr>\n",
       "  </tbody>\n",
       "</table>\n",
       "</div>"
      ],
      "text/plain": [
       "    no   yes  NaN\n",
       "0    0     1    0\n",
       "1    1     0    0\n",
       "2    0     1    0\n",
       "3    0     0    1"
      ]
     },
     "execution_count": 33,
     "metadata": {},
     "output_type": "execute_result"
    }
   ],
   "source": [
    "column4 = pd.get_dummies(column4, dummy_na=True)\n",
    "column4  #从结果可以看出，四组的分别是yes，no，yes，NaN0."
   ]
  },
  {
   "cell_type": "markdown",
   "id": "125922b0",
   "metadata": {},
   "source": [
    "## 2.3 转换为张量格式\n",
    "现在column1_3和column4中的所有条目都是数值类型，它们可以转换为张量格式。"
   ]
  },
  {
   "cell_type": "code",
   "execution_count": 41,
   "id": "b18d5018",
   "metadata": {},
   "outputs": [
    {
     "data": {
      "text/plain": [
       "(tensor([[ 1.0000, 78.0000],\n",
       "         [ 3.0000, 55.0000],\n",
       "         [ 3.0000, 66.0000],\n",
       "         [ 5.0000, 66.3333]], dtype=torch.float64),\n",
       " tensor([[0, 1, 0],\n",
       "         [1, 0, 0],\n",
       "         [0, 1, 0],\n",
       "         [0, 0, 1]], dtype=torch.uint8))"
      ]
     },
     "execution_count": 41,
     "metadata": {},
     "output_type": "execute_result"
    }
   ],
   "source": [
    "import torch\n",
    "x, y = torch.tensor(column1_3.values), torch.tensor(column4.values)\n",
    "x, y"
   ]
  },
  {
   "cell_type": "markdown",
   "id": "2ee0e12a",
   "metadata": {},
   "source": [
    "上面是float64，传统的python一般默认浮点数为float64，但计算很慢，深度学习通常用32位浮点数"
   ]
  }
 ],
 "metadata": {
  "kernelspec": {
   "display_name": "Python [conda env:root] *",
   "language": "python",
   "name": "conda-root-py"
  },
  "language_info": {
   "codemirror_mode": {
    "name": "ipython",
    "version": 3
   },
   "file_extension": ".py",
   "mimetype": "text/x-python",
   "name": "python",
   "nbconvert_exporter": "python",
   "pygments_lexer": "ipython3",
   "version": "3.8.8"
  }
 },
 "nbformat": 4,
 "nbformat_minor": 5
}
